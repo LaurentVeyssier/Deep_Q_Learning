{
  "cells": [
    {
      "cell_type": "markdown",
      "metadata": {
        "id": "LbZcI9ZXHl3a"
      },
      "source": [
        "# Deep Q-Learning for Lunar Landing"
      ]
    },
    {
      "cell_type": "markdown",
      "metadata": {
        "id": "E8yPRjteXgPb"
      },
      "source": [
        "## Part 0 - Installing the required packages and importing the libraries"
      ]
    },
    {
      "cell_type": "markdown",
      "metadata": {
        "id": "slEm5teGWjWU"
      },
      "source": [
        "### Installing Gymnasium\n",
        "- https://pypi.org/project/gymnasium/\n",
        "- https://pypi.org/project/swig/"
      ]
    },
    {
      "cell_type": "code",
      "execution_count": null,
      "metadata": {
        "colab": {
          "base_uri": "https://localhost:8080/"
        },
        "id": "dbnq3XpoKa_7",
        "outputId": "97649b09-38aa-49c5-d81a-63f440b31dde"
      },
      "outputs": [
        {
          "name": "stdout",
          "output_type": "stream",
          "text": [
            "Requirement already satisfied: gymnasium in /usr/local/lib/python3.10/dist-packages (0.29.1)\n",
            "Requirement already satisfied: numpy>=1.21.0 in /usr/local/lib/python3.10/dist-packages (from gymnasium) (1.23.5)\n",
            "Requirement already satisfied: cloudpickle>=1.2.0 in /usr/local/lib/python3.10/dist-packages (from gymnasium) (2.2.1)\n",
            "Requirement already satisfied: typing-extensions>=4.3.0 in /usr/local/lib/python3.10/dist-packages (from gymnasium) (4.5.0)\n",
            "Requirement already satisfied: farama-notifications>=0.0.1 in /usr/local/lib/python3.10/dist-packages (from gymnasium) (0.0.4)\n",
            "Requirement already satisfied: gymnasium[accept-rom-license,atari] in /usr/local/lib/python3.10/dist-packages (0.29.1)\n",
            "Requirement already satisfied: numpy>=1.21.0 in /usr/local/lib/python3.10/dist-packages (from gymnasium[accept-rom-license,atari]) (1.23.5)\n",
            "Requirement already satisfied: cloudpickle>=1.2.0 in /usr/local/lib/python3.10/dist-packages (from gymnasium[accept-rom-license,atari]) (2.2.1)\n",
            "Requirement already satisfied: typing-extensions>=4.3.0 in /usr/local/lib/python3.10/dist-packages (from gymnasium[accept-rom-license,atari]) (4.5.0)\n",
            "Requirement already satisfied: farama-notifications>=0.0.1 in /usr/local/lib/python3.10/dist-packages (from gymnasium[accept-rom-license,atari]) (0.0.4)\n",
            "Requirement already satisfied: autorom[accept-rom-license]~=0.4.2 in /usr/local/lib/python3.10/dist-packages (from gymnasium[accept-rom-license,atari]) (0.4.2)\n",
            "Requirement already satisfied: shimmy[atari]<1.0,>=0.1.0 in /usr/local/lib/python3.10/dist-packages (from gymnasium[accept-rom-license,atari]) (0.2.1)\n",
            "Requirement already satisfied: click in /usr/local/lib/python3.10/dist-packages (from autorom[accept-rom-license]~=0.4.2->gymnasium[accept-rom-license,atari]) (8.1.7)\n",
            "Requirement already satisfied: requests in /usr/local/lib/python3.10/dist-packages (from autorom[accept-rom-license]~=0.4.2->gymnasium[accept-rom-license,atari]) (2.31.0)\n",
            "Requirement already satisfied: tqdm in /usr/local/lib/python3.10/dist-packages (from autorom[accept-rom-license]~=0.4.2->gymnasium[accept-rom-license,atari]) (4.66.1)\n",
            "Requirement already satisfied: AutoROM.accept-rom-license in /usr/local/lib/python3.10/dist-packages (from autorom[accept-rom-license]~=0.4.2->gymnasium[accept-rom-license,atari]) (0.6.1)\n",
            "Requirement already satisfied: ale-py~=0.8.1 in /usr/local/lib/python3.10/dist-packages (from shimmy[atari]<1.0,>=0.1.0->gymnasium[accept-rom-license,atari]) (0.8.1)\n",
            "Requirement already satisfied: importlib-resources in /usr/local/lib/python3.10/dist-packages (from ale-py~=0.8.1->shimmy[atari]<1.0,>=0.1.0->gymnasium[accept-rom-license,atari]) (6.1.0)\n",
            "Requirement already satisfied: charset-normalizer<4,>=2 in /usr/local/lib/python3.10/dist-packages (from requests->autorom[accept-rom-license]~=0.4.2->gymnasium[accept-rom-license,atari]) (3.3.0)\n",
            "Requirement already satisfied: idna<4,>=2.5 in /usr/local/lib/python3.10/dist-packages (from requests->autorom[accept-rom-license]~=0.4.2->gymnasium[accept-rom-license,atari]) (3.4)\n",
            "Requirement already satisfied: urllib3<3,>=1.21.1 in /usr/local/lib/python3.10/dist-packages (from requests->autorom[accept-rom-license]~=0.4.2->gymnasium[accept-rom-license,atari]) (2.0.7)\n",
            "Requirement already satisfied: certifi>=2017.4.17 in /usr/local/lib/python3.10/dist-packages (from requests->autorom[accept-rom-license]~=0.4.2->gymnasium[accept-rom-license,atari]) (2023.7.22)\n",
            "Reading package lists... Done\n",
            "Building dependency tree... Done\n",
            "Reading state information... Done\n",
            "swig is already the newest version (4.0.2-1ubuntu1).\n",
            "0 upgraded, 0 newly installed, 0 to remove and 18 not upgraded.\n",
            "Requirement already satisfied: gymnasium[box2d] in /usr/local/lib/python3.10/dist-packages (0.29.1)\n",
            "Requirement already satisfied: numpy>=1.21.0 in /usr/local/lib/python3.10/dist-packages (from gymnasium[box2d]) (1.23.5)\n",
            "Requirement already satisfied: cloudpickle>=1.2.0 in /usr/local/lib/python3.10/dist-packages (from gymnasium[box2d]) (2.2.1)\n",
            "Requirement already satisfied: typing-extensions>=4.3.0 in /usr/local/lib/python3.10/dist-packages (from gymnasium[box2d]) (4.5.0)\n",
            "Requirement already satisfied: farama-notifications>=0.0.1 in /usr/local/lib/python3.10/dist-packages (from gymnasium[box2d]) (0.0.4)\n",
            "Requirement already satisfied: box2d-py==2.3.5 in /usr/local/lib/python3.10/dist-packages (from gymnasium[box2d]) (2.3.5)\n",
            "Requirement already satisfied: pygame>=2.1.3 in /usr/local/lib/python3.10/dist-packages (from gymnasium[box2d]) (2.5.2)\n",
            "Requirement already satisfied: swig==4.* in /usr/local/lib/python3.10/dist-packages (from gymnasium[box2d]) (4.1.1)\n"
          ]
        }
      ],
      "source": [
        "#!pip install gymnasium\n",
        "#!pip install \"gymnasium[atari, accept-rom-license]\"\n",
        "#!apt-get install -y swig\n",
        "#!pip install gymnasium[box2d]"
      ]
    },
    {
      "cell_type": "markdown",
      "metadata": {
        "id": "brqiMN3UW9T9"
      },
      "source": [
        "### Importing the libraries"
      ]
    },
    {
      "cell_type": "code",
      "execution_count": 2,
      "metadata": {
        "id": "mZaKXP_aMl9O"
      },
      "outputs": [
        {
          "data": {
            "text/plain": [
              "True"
            ]
          },
          "execution_count": 2,
          "metadata": {},
          "output_type": "execute_result"
        }
      ],
      "source": [
        "import os\n",
        "import random\n",
        "import numpy as np\n",
        "import torch\n",
        "import torch.nn as nn\n",
        "import torch.optim as optim\n",
        "import torch.nn.functional as F\n",
        "import torch.autograd as autograd\n",
        "from torch.autograd import Variable\n",
        "from collections import deque, namedtuple\n",
        "import gymnasium\n",
        "torch.cuda.is_available()"
      ]
    },
    {
      "cell_type": "markdown",
      "metadata": {
        "id": "EzlDKXvkXzGI"
      },
      "source": [
        "## Part 1 - Building the AI"
      ]
    },
    {
      "cell_type": "markdown",
      "metadata": {
        "id": "UtG6Zc83YYy3"
      },
      "source": [
        "### Creating the architecture of the Neural Network\n",
        "- 3 fully connected layers\n",
        "- input of dim spaces\n",
        "- output of dim actions"
      ]
    },
    {
      "cell_type": "code",
      "execution_count": 3,
      "metadata": {
        "id": "h9oUxasLEJx9"
      },
      "outputs": [],
      "source": [
        "class Network(nn.Module):\n",
        "\n",
        "  def __init__(self, state_size, action_size, seed = 42):\n",
        "    super(Network, self).__init__()\n",
        "    self.seed = torch.manual_seed(seed)\n",
        "    self.fc1 = nn.Linear(state_size, 64)\n",
        "    self.fc2 = nn.Linear(64, 64)\n",
        "    self.fc3 = nn.Linear(64, action_size)\n",
        "\n",
        "  def forward(self, state):\n",
        "    x = self.fc1(state)\n",
        "    x = F.relu(x)\n",
        "    x = self.fc2(x)\n",
        "    x = F.relu(x)\n",
        "    return self.fc3(x)"
      ]
    },
    {
      "cell_type": "markdown",
      "metadata": {
        "id": "UxVrBnFWZKb1"
      },
      "source": [
        "## Part 2 - Training the AI"
      ]
    },
    {
      "cell_type": "markdown",
      "metadata": {
        "id": "T364fz9qZb2j"
      },
      "source": [
        "### Setting up the environment"
      ]
    },
    {
      "cell_type": "code",
      "execution_count": 4,
      "metadata": {
        "colab": {
          "base_uri": "https://localhost:8080/"
        },
        "id": "NUWiCFWySXIh",
        "outputId": "0bb635e5-0ef7-4b7f-b101-c2060b342f95"
      },
      "outputs": [
        {
          "name": "stdout",
          "output_type": "stream",
          "text": [
            "State shape:  (8,)\n",
            "State size:  8\n",
            "Number of actions:  4\n"
          ]
        }
      ],
      "source": [
        "\n",
        "env = gymnasium.make('LunarLander-v2')\n",
        "# get environment key parameters from env\n",
        "state_shape = env.observation_space.shape\n",
        "state_size = env.observation_space.shape[0]\n",
        "number_actions = env.action_space.n\n",
        "# print key metrics\n",
        "print('State shape: ', state_shape)\n",
        "print('State size: ', state_size)\n",
        "print('Number of actions: ', number_actions)"
      ]
    },
    {
      "cell_type": "markdown",
      "metadata": {
        "id": "c_dZmOIvZgj-"
      },
      "source": [
        "### Initializing the hyperparameters"
      ]
    },
    {
      "cell_type": "code",
      "execution_count": 5,
      "metadata": {
        "colab": {
          "base_uri": "https://localhost:8080/"
        },
        "id": "bNKnUzj1Oqz8",
        "outputId": "efd55f04-e9c6-4d16-ea27-5f650b70d526"
      },
      "outputs": [],
      "source": [
        "learning_rate = 5e-4\n",
        "minibatch_size = 100\n",
        "discount_factor = 0.99              # closer to one makes rewards of future actions count\n",
        "replay_buffer_size = int(1e5)       # number of experiemnts to store in the memory Replay\n",
        "interpolation_parameter = 1e-3"
      ]
    },
    {
      "cell_type": "markdown",
      "metadata": {
        "id": "8hD_Vs-bYnip"
      },
      "source": [
        "### Implementing Experience Replay"
      ]
    },
    {
      "cell_type": "code",
      "execution_count": 6,
      "metadata": {
        "id": "QaEChoj_uRoe"
      },
      "outputs": [],
      "source": [
        "class ReplayMemory(object):\n",
        "\n",
        "  def __init__(self, capacity):\n",
        "    self.device = torch.device(\"cuda:0\" if torch.cuda.is_available() else \"cpu\")\n",
        "    self.capacity = capacity\n",
        "    self.memory = []\n",
        "\n",
        "  def push(self, event):\n",
        "    # add experiments to the buffer while keeping buffer size below max size\n",
        "    self.memory.append(event)\n",
        "    if len(self.memory) > self.capacity:\n",
        "      del self.memory[0]\n",
        "\n",
        "  def sample(self, batch_size):\n",
        "    # randomly select n = batch_size experiments from the memory buffer\n",
        "    experiences = random.sample(self.memory, k = batch_size)\n",
        "    # each experiment contains the state, the action, the reward, the next_state and the flag done\n",
        "    # stack the information only if the experiment exists (not None)\n",
        "    # convert to tensors with float datatype, except actions which are 0 to 3 and dones boolean type\n",
        "    states = torch.from_numpy(np.vstack([e[0] for e in experiences if e is not None])).float().to(self.device)\n",
        "    actions = torch.from_numpy(np.vstack([e[1] for e in experiences if e is not None])).long().to(self.device)\n",
        "    rewards = torch.from_numpy(np.vstack([e[2] for e in experiences if e is not None])).float().to(self.device)\n",
        "    next_states = torch.from_numpy(np.vstack([e[3] for e in experiences if e is not None])).float().to(self.device)\n",
        "    dones = torch.from_numpy(np.vstack([e[4] for e in experiences if e is not None]).astype(np.uint8)).float().to(self.device)\n",
        "    return states, next_states, actions, rewards, dones"
      ]
    },
    {
      "cell_type": "markdown",
      "metadata": {
        "id": "JmEkbFbUY6Jt"
      },
      "source": [
        "### Implementing the DQN class"
      ]
    },
    {
      "cell_type": "code",
      "execution_count": 7,
      "metadata": {
        "id": "iokmjTKJ9E3U"
      },
      "outputs": [],
      "source": [
        "class Agent():\n",
        "\n",
        "  def __init__(self, state_size, action_size):\n",
        "    self.device = torch.device(\"cuda:0\" if torch.cuda.is_available() else \"cpu\")\n",
        "    self.state_size = state_size\n",
        "    self.action_size = action_size\n",
        "    # create two Q networks, the internal and the external ones, which stabilize the learning process\n",
        "    self.local_qnetwork = Network(state_size, action_size).to(self.device)      # internal Q network select the actions\n",
        "    self.target_qnetwork = Network(state_size, action_size).to(self.device)     # external Q network computes q values and used to train the internal network\n",
        "    # training algo\n",
        "    self.optimizer = optim.Adam(self.local_qnetwork.parameters(), lr = learning_rate)\n",
        "    # replay memory\n",
        "    self.memory = ReplayMemory(replay_buffer_size)\n",
        "    # time step counter\n",
        "    self.t_step = 0\n",
        "\n",
        "  def step(self, state, action, reward, next_state, done):\n",
        "    # add experiment to memory\n",
        "    self.memory.push((state, action, reward, next_state, done))\n",
        "    # increment timestep and learn every 4 steps (reset timestep)\n",
        "    self.t_step = (self.t_step + 1) % 4\n",
        "    # every 4 steps, sample minibatch  of experiences, learn from the batch\n",
        "    if self.t_step == 0:\n",
        "      if len(self.memory.memory) > minibatch_size:\n",
        "        experiences = self.memory.sample(minibatch_size)\n",
        "        self.learn(experiences, discount_factor)\n",
        "\n",
        "  # method to select the best action\n",
        "  def act(self, state, epsilon = 0.):\n",
        "    # convert to tensor, add one dim to account for the batch in position 0\n",
        "    state = torch.from_numpy(state).float().unsqueeze(0).to(self.device)\n",
        "    # forward pass, get action q values\n",
        "    self.local_qnetwork.eval()\n",
        "    with torch.no_grad():\n",
        "      action_values = self.local_qnetwork(state)\n",
        "    # select predicted action using greedy policy\n",
        "    self.local_qnetwork.train()\n",
        "    if random.random() > epsilon:\n",
        "      return np.argmax(action_values.cpu().data.numpy())\n",
        "    else:\n",
        "      return random.choice(np.arange(self.action_size))\n",
        "\n",
        "  def learn(self, experiences, discount_factor):\n",
        "    # unpacking\n",
        "    states, next_states, actions, rewards, dones = experiences\n",
        "    # action values prediction using target network, add dimension in position 1\n",
        "    next_q_targets = self.target_qnetwork(next_states).detach().max(1)[0].unsqueeze(1)\n",
        "    q_targets = rewards + discount_factor * next_q_targets * (1 - dones)\n",
        "    # get expected q values by propagate using internal network\n",
        "    q_expected = self.local_qnetwork(states).gather(1, actions)\n",
        "    # compute loss\n",
        "    loss = F.mse_loss(q_expected, q_targets)\n",
        "    # backpropagate the loss to compute gradient\n",
        "    self.optimizer.zero_grad()\n",
        "    loss.backward()\n",
        "    # update parameters\n",
        "    self.optimizer.step()\n",
        "    # update target network with internal network weights\n",
        "    self.soft_update(self.local_qnetwork, self.target_qnetwork, interpolation_parameter)\n",
        "\n",
        "  # update parameters between networks during training step slowly to avoid learning destabilization\n",
        "  def soft_update(self, local_model, target_model, interpolation_parameter):\n",
        "    for target_param, local_param in zip(target_model.parameters(), local_model.parameters()):\n",
        "      target_param.data.copy_(interpolation_parameter * local_param.data + (1.0 - interpolation_parameter) * target_param.data)"
      ]
    },
    {
      "cell_type": "markdown",
      "metadata": {
        "id": "o1tZElccZmf6"
      },
      "source": [
        "### Initializing the DQN agent"
      ]
    },
    {
      "cell_type": "code",
      "execution_count": 14,
      "metadata": {
        "id": "cGbpJJvLjmIw"
      },
      "outputs": [],
      "source": [
        "agent = Agent(state_size, number_actions)"
      ]
    },
    {
      "cell_type": "markdown",
      "metadata": {
        "id": "E8v0PtUfaVQp"
      },
      "source": [
        "### Training the DQN agent\n",
        "- winning score see here: https://gymnasium.farama.org/environments/box2d/lunar_lander/"
      ]
    },
    {
      "cell_type": "code",
      "execution_count": 15,
      "metadata": {
        "colab": {
          "base_uri": "https://localhost:8080/"
        },
        "id": "2ybZW6Im-Bwj",
        "outputId": "05de8469-e791-451a-fcbe-dbf2e0d76bc9"
      },
      "outputs": [
        {
          "name": "stdout",
          "output_type": "stream",
          "text": [
            "Episode 100\tAverage Score: -174.33\n",
            "Episode 200\tAverage Score: -94.941\n",
            "Episode 300\tAverage Score: -32.11\n",
            "Episode 400\tAverage Score: 26.914\n",
            "Episode 500\tAverage Score: 92.57\n",
            "Episode 600\tAverage Score: 115.13\n",
            "Episode 700\tAverage Score: 158.69\n",
            "Episode 757\tAverage Score: 201.23\n",
            "Environment solved in 657 episodes!\tAverage Score: 201.23\n"
          ]
        }
      ],
      "source": [
        "# max number of episodes over which to train agent\n",
        "number_episodes = 2000\n",
        "# avoid spending too much time on one episode, max 1000 timesteps in one episode\n",
        "maximum_number_timesteps_per_episode = 1000\n",
        "# for epsilon greedy selection of action\n",
        "epsilon_starting_value  = 1.0\n",
        "epsilon_ending_value  = 0.01\n",
        "epsilon_decay_value  = 0.995\n",
        "epsilon = epsilon_starting_value\n",
        "# window of scores on last 100 episodes using queue\n",
        "scores_on_100_episodes = deque(maxlen = 100)\n",
        "\n",
        "# Training Loop\n",
        "for episode in range(1, number_episodes + 1):\n",
        "  state, _ = env.reset()\n",
        "  score = 0\n",
        "  for t in range(maximum_number_timesteps_per_episode):\n",
        "    action = agent.act(state, epsilon)\n",
        "    next_state, reward, done, _, _ = env.step(action)\n",
        "    agent.step(state, action, reward, next_state, done)\n",
        "    state = next_state\n",
        "    score += reward\n",
        "    if done:\n",
        "      break\n",
        "  # store score to queue\n",
        "  scores_on_100_episodes.append(score)\n",
        "  # update epsilon decay\n",
        "  epsilon = max(epsilon_ending_value, epsilon_decay_value * epsilon)\n",
        "  print('\\rEpisode {}\\tAverage Score: {:.2f}'.format(episode, np.mean(scores_on_100_episodes)), end = \"\")\n",
        "  if episode % 100 == 0:\n",
        "    print('\\rEpisode {}\\tAverage Score: {:.2f}'.format(episode, np.mean(scores_on_100_episodes)))\n",
        "  # check if we reach 200 when we consider training finished because of the reward for landing (see gymnasium page of LunarLander)\n",
        "  if np.mean(scores_on_100_episodes) >= 200.0:\n",
        "    print('\\nEnvironment solved in {:d} episodes!\\tAverage Score: {:.2f}'.format(episode - 100, np.mean(scores_on_100_episodes)))\n",
        "    torch.save(agent.local_qnetwork.state_dict(), 'checkpoint.pth')\n",
        "    break"
      ]
    },
    {
      "cell_type": "code",
      "execution_count": 12,
      "metadata": {},
      "outputs": [],
      "source": [
        "# no training performed - load saved one\n",
        "try:\n",
        "    agent.local_qnetwork.load_state_dict(torch.load('checkpoint.pth'))\n",
        "except:\n",
        "    print('No saved model found')"
      ]
    },
    {
      "cell_type": "markdown",
      "metadata": {
        "id": "O8CNwdOTcCoP"
      },
      "source": [
        "## Part 3 - Visualizing the results"
      ]
    },
    {
      "cell_type": "code",
      "execution_count": 20,
      "metadata": {},
      "outputs": [
        {
          "name": "stderr",
          "output_type": "stream",
          "text": [
            "IMAGEIO FFMPEG_WRITER WARNING: input image is not divisible by macro_block_size=16, resizing from (600, 400) to (608, 400) to ensure video compatibility with most codecs and players. To prevent resizing, make your input image divisible by the macro_block_size or set the macro_block_size to 1 (risking incompatibility).\n"
          ]
        },
        {
          "data": {
            "text/html": [
              "<video alt=\"test\" autoplay\n",
              "                loop controls style=\"height: 400px;\">\n",
              "                <source src=\"data:video/mp4;base64,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\" type=\"video/mp4\" />\n",
              "             </video>"
            ],
            "text/plain": [
              "<IPython.core.display.HTML object>"
            ]
          },
          "metadata": {},
          "output_type": "display_data"
        }
      ],
      "source": [
        "import glob\n",
        "import io\n",
        "import base64\n",
        "import imageio\n",
        "from IPython.display import HTML, display\n",
        "from gymnasium.wrappers.monitoring.video_recorder import VideoRecorder\n",
        "\n",
        "def show_video_of_model(agent, env_name):\n",
        "    env = gymnasium.make(env_name, render_mode='rgb_array')\n",
        "    state, _ = env.reset()\n",
        "    done = False\n",
        "    frames = []\n",
        "    while not done:\n",
        "        frame = env.render()\n",
        "        frames.append(frame)\n",
        "        action = agent.act(state)\n",
        "        state, reward, done, _, _ = env.step(action.item())\n",
        "    env.close()\n",
        "    imageio.mimsave('lunar_video.mp4', frames, fps=30)\n",
        "    imageio.mimsave('lunar.gif', frames, duration=3)\n",
        "\n",
        "show_video_of_model(agent, 'LunarLander-v2')\n",
        "\n",
        "def show_video():\n",
        "    mp4list = glob.glob('lunar_video.mp4')\n",
        "    if len(mp4list) > 0:\n",
        "        mp4 = mp4list[0]\n",
        "        video = io.open(mp4, 'r+b').read()\n",
        "        encoded = base64.b64encode(video)\n",
        "        display(HTML(data='''<video alt=\"test\" autoplay\n",
        "                loop controls style=\"height: 400px;\">\n",
        "                <source src=\"data:video/mp4;base64,{0}\" type=\"video/mp4\" />\n",
        "             </video>'''.format(encoded.decode('ascii'))))\n",
        "    else:\n",
        "        print(\"Could not find video\")\n",
        "\n",
        "show_video()"
      ]
    },
    {
      "cell_type": "code",
      "execution_count": null,
      "metadata": {},
      "outputs": [],
      "source": []
    }
  ],
  "metadata": {
    "colab": {
      "provenance": []
    },
    "kernelspec": {
      "display_name": "Python 3",
      "name": "python3"
    },
    "language_info": {
      "codemirror_mode": {
        "name": "ipython",
        "version": 3
      },
      "file_extension": ".py",
      "mimetype": "text/x-python",
      "name": "python",
      "nbconvert_exporter": "python",
      "pygments_lexer": "ipython3",
      "version": "3.10.14"
    }
  },
  "nbformat": 4,
  "nbformat_minor": 0
}
